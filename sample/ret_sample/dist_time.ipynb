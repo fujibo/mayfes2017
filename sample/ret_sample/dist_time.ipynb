{
    "cells": [
        {
            "cell_type": "code",
            "execution_count": 1,
            "metadata": {
                "collapsed": true,
                "id": "ef892bf9-b234-424a-9bce-a6095c64d176",
                "focus": false
            },
            "outputs": [],
            "source": [
                "import numpy as np\n",
                "import time\n",
                "import scipy.spatial.distance as dis"
            ]
        },
        {
            "cell_type": "markdown",
            "metadata": {
                "id": "807f27f4-be35-4750-af40-0c2ecc696c01",
                "focus": false
            },
            "source": [
                "データの用意"
            ]
        },
        {
            "cell_type": "code",
            "execution_count": 2,
            "metadata": {
                "collapsed": true,
                "id": "99795445-80a6-40ed-b573-49dcfd56818e",
                "focus": false
            },
            "outputs": [],
            "source": [
                "entries = np.random.rand(10000, 4096)\n",
                "query = np.random.rand(4096)"
            ]
        },
        {
            "cell_type": "markdown",
            "metadata": {
                "id": "f27ec5f1-b443-4e78-9f55-8bf43e6f031f",
                "focus": false
            },
            "source": [
                "for文で計算した場合"
            ]
        },
        {
            "cell_type": "code",
            "execution_count": 3,
            "metadata": {
                "collapsed": false,
                "scrolled": true,
                "id": "d22e5c9c-a997-4ad5-9015-0c47b14c3ecc",
                "focus": false
            },
            "outputs": [
                {
                    "name": "stdout",
                    "output_type": "stream",
                    "text": [
                        "1 loop, best of 3: 724 ms per loop\n"
                    ]
                }
            ],
            "source": [
                "%%timeit\n",
                "distance = []\n",
                "for i in range(10000):\n",
                "    distance.append(dis.cosine(entries[i], query))"
            ]
        },
        {
            "cell_type": "markdown",
            "metadata": {
                "id": "c8725c21-fc98-4118-8ab9-65b815915187",
                "focus": false
            },
            "source": [
                "for文　内包表現"
            ]
        },
        {
            "cell_type": "code",
            "execution_count": 4,
            "metadata": {
                "collapsed": false,
                "id": "cbc76f85-9ff7-4fb8-b1f8-c91fd8d1016d",
                "focus": false
            },
            "outputs": [
                {
                    "name": "stdout",
                    "output_type": "stream",
                    "text": [
                        "1 loop, best of 3: 723 ms per loop\n"
                    ]
                }
            ],
            "source": [
                "%%timeit\n",
                "distance = [dis.cosine(entries[i], query) for i in range(10000)]"
            ]
        },
        {
            "cell_type": "code",
            "execution_count": 20,
            "metadata": {
                "collapsed": true,
                "id": "5c9c3976-7e02-45b8-aaa1-d2cc89a62f32",
                "focus": false
            },
            "outputs": [],
            "source": [
                "entries = np.random.rand(100000, 4096)\n",
                "query = np.random.rand(4096)"
            ]
        },
        {
            "cell_type": "markdown",
            "metadata": {
                "id": "f74edafa-5201-4a3a-a290-634c14a13a34",
                "focus": false
            },
            "source": [
                "コサイン類似度の計算"
            ]
        },
        {
            "cell_type": "code",
            "execution_count": 21,
            "metadata": {
                "collapsed": false,
                "scrolled": true,
                "id": "beb4c0bd-d06a-437c-bff7-2212a9b6019d",
                "focus": false
            },
            "outputs": [
                {
                    "name": "stdout",
                    "output_type": "stream",
                    "text": [
                        "1 loop, best of 3: 890 ms per loop\n"
                    ]
                }
            ],
            "source": "%%timeit\ndistance = 1.0 - entries.dot(query) / (np.linalg.norm(entries, axis=1) * np.linalg.norm(query)"
        },
        {
            "cell_type": "code",
            "execution_count": 23,
            "metadata": {
                "collapsed": false,
                "id": "92d7f55d-532d-4182-b8f7-7b412e727537",
                "focus": true
            },
            "outputs": [],
            "source": "entries = entries / np.linalg.norm(entries, axis=1).reshape(-1, 1)"
        },
        {
            "cell_type": "markdown",
            "metadata": {
                "id": "f7036ae2-db80-44af-b157-c107d36b43c1",
                "focus": false
            },
            "source": [
                "予めentriesを正規化しておいた上で，距離のようなものを計算\n",
                "（順番を知りたいだけなので1.0で引く必要が無い）"
            ]
        },
        {
            "cell_type": "code",
            "execution_count": 24,
            "metadata": {
                "collapsed": false,
                "id": "2c46f2a5-e9b8-4e76-88c7-9c2b922312b7",
                "focus": false
            },
            "outputs": [
                {
                    "name": "stdout",
                    "output_type": "stream",
                    "text": [
                        "10 loops, best of 3: 154 ms per loop\n"
                    ]
                }
            ],
            "source": [
                "%%timeit\n",
                "distance_sic = - entries.dot(query)"
            ]
        },
        {
            "cell_type": "markdown",
            "metadata": {
                "id": "e0a22959-df34-4246-a335-aebbd8541082",
                "focus": false
            },
            "source": [
                "GPUで計算する"
            ]
        },
        {
            "cell_type": "code",
            "execution_count": 25,
            "metadata": {
                "collapsed": false,
                "id": "843ab213-730b-472e-a026-717453d641e7",
                "focus": false
            },
            "outputs": [
                {
                    "ename": "CUDARuntimeError",
                    "evalue": "cudaErrorMemoryAllocation: out of memory",
                    "output_type": "error",
                    "traceback": [
                        "\u001b[0;31m---------------------------------------------------------------------------\u001b[0m",
                        "\u001b[0;31mCUDARuntimeError\u001b[0m                          Traceback (most recent call last)",
                        "\u001b[0;32m<ipython-input-25-d2b9e0bfc39f>\u001b[0m in \u001b[0;36m<module>\u001b[0;34m()\u001b[0m\n\u001b[1;32m      2\u001b[0m \u001b[0;31m# cupyにはcp.linalg.normがない\u001b[0m\u001b[0;34m\u001b[0m\u001b[0;34m\u001b[0m\u001b[0m\n\u001b[1;32m      3\u001b[0m \u001b[0;31m# またcupyはGPUのメモリ依存なのでサイズが大きいと計算できないかも\u001b[0m\u001b[0;34m\u001b[0m\u001b[0;34m\u001b[0m\u001b[0m\n\u001b[0;32m----> 4\u001b[0;31m \u001b[0mentries\u001b[0m \u001b[0;34m=\u001b[0m \u001b[0mcp\u001b[0m\u001b[0;34m.\u001b[0m\u001b[0marray\u001b[0m\u001b[0;34m(\u001b[0m\u001b[0mentries\u001b[0m\u001b[0;34m)\u001b[0m\u001b[0;34m\u001b[0m\u001b[0m\n\u001b[0m\u001b[1;32m      5\u001b[0m \u001b[0mquery\u001b[0m \u001b[0;34m=\u001b[0m \u001b[0mcp\u001b[0m\u001b[0;34m.\u001b[0m\u001b[0marray\u001b[0m\u001b[0;34m(\u001b[0m\u001b[0mquery\u001b[0m\u001b[0;34m)\u001b[0m\u001b[0;34m\u001b[0m\u001b[0m\n",
                        "\u001b[0;32m/home/kt/anaconda3/lib/python3.6/site-packages/cupy/creation/from_data.py\u001b[0m in \u001b[0;36marray\u001b[0;34m(obj, dtype, copy, ndmin)\u001b[0m\n\u001b[1;32m     24\u001b[0m     \"\"\"\n\u001b[1;32m     25\u001b[0m     \u001b[0;31m# TODO(beam2d): Support order and subok options\u001b[0m\u001b[0;34m\u001b[0m\u001b[0;34m\u001b[0m\u001b[0m\n\u001b[0;32m---> 26\u001b[0;31m     \u001b[0;32mreturn\u001b[0m \u001b[0mcore\u001b[0m\u001b[0;34m.\u001b[0m\u001b[0marray\u001b[0m\u001b[0;34m(\u001b[0m\u001b[0mobj\u001b[0m\u001b[0;34m,\u001b[0m \u001b[0mdtype\u001b[0m\u001b[0;34m,\u001b[0m \u001b[0mcopy\u001b[0m\u001b[0;34m,\u001b[0m \u001b[0mndmin\u001b[0m\u001b[0;34m)\u001b[0m\u001b[0;34m\u001b[0m\u001b[0m\n\u001b[0m\u001b[1;32m     27\u001b[0m \u001b[0;34m\u001b[0m\u001b[0m\n\u001b[1;32m     28\u001b[0m \u001b[0;34m\u001b[0m\u001b[0m\n",
                        "\u001b[0;32mcupy/core/core.pyx\u001b[0m in \u001b[0;36mcupy.core.core.array (cupy/core/core.cpp:57460)\u001b[0;34m()\u001b[0m\n",
                        "\u001b[0;32mcupy/core/core.pyx\u001b[0m in \u001b[0;36mcupy.core.core.array (cupy/core/core.cpp:57231)\u001b[0;34m()\u001b[0m\n",
                        "\u001b[0;32mcupy/core/core.pyx\u001b[0m in \u001b[0;36mcupy.core.core.ndarray.__init__ (cupy/core/core.cpp:6332)\u001b[0;34m()\u001b[0m\n",
                        "\u001b[0;32mcupy/cuda/memory.pyx\u001b[0m in \u001b[0;36mcupy.cuda.memory.alloc (cupy/cuda/memory.cpp:5988)\u001b[0;34m()\u001b[0m\n",
                        "\u001b[0;32mcupy/cuda/memory.pyx\u001b[0m in \u001b[0;36mcupy.cuda.memory._malloc (cupy/cuda/memory.cpp:5930)\u001b[0;34m()\u001b[0m\n",
                        "\u001b[0;32mcupy/cuda/memory.pyx\u001b[0m in \u001b[0;36mcupy.cuda.memory._malloc (cupy/cuda/memory.cpp:5851)\u001b[0;34m()\u001b[0m\n",
                        "\u001b[0;32mcupy/cuda/memory.pyx\u001b[0m in \u001b[0;36mcupy.cuda.memory.Memory.__init__ (cupy/cuda/memory.cpp:1772)\u001b[0;34m()\u001b[0m\n",
                        "\u001b[0;32mcupy/cuda/runtime.pyx\u001b[0m in \u001b[0;36mcupy.cuda.runtime.malloc (cupy/cuda/runtime.cpp:3429)\u001b[0;34m()\u001b[0m\n",
                        "\u001b[0;32mcupy/cuda/runtime.pyx\u001b[0m in \u001b[0;36mcupy.cuda.runtime.check_status (cupy/cuda/runtime.cpp:2241)\u001b[0;34m()\u001b[0m\n",
                        "\u001b[0;31mCUDARuntimeError\u001b[0m: cudaErrorMemoryAllocation: out of memory"
                    ]
                }
            ],
            "source": [
                "import cupy as cp\n",
                "# cupyにはcp.linalg.normがない\n",
                "# またcupyはGPUのメモリ依存なのでサイズが大きいと計算できないかも\n",
                "entries = cp.array(entries)\n",
                "query = cp.array(query)"
            ]
        },
        {
            "cell_type": "code",
            "execution_count": 18,
            "metadata": {
                "collapsed": false,
                "id": "9699b2cb-c0eb-437e-b947-6988e893d81f",
                "focus": false
            },
            "outputs": [
                {
                    "name": "stdout",
                    "output_type": "stream",
                    "text": [
                        "10 loops, best of 3: 162 ms per loop\n"
                    ]
                }
            ],
            "source": [
                "%%timeit\n",
                "distance_sic = - entries.dot(query)"
            ]
        },
        {
            "cell_type": "markdown",
            "metadata": {
                "id": "c69d0544-0a54-4e15-9999-ff982d73a470",
                "focus": false
            },
            "source": [
                "**つまりGPUの方が計算が遅い**"
            ]
        }
    ],
    "metadata": {
        "kernelspec": {
            "display_name": "Python 3",
            "language": "python",
            "name": "python3"
        },
        "language_info": {
            "codemirror_mode": {
                "name": "ipython",
                "version": 3
            },
            "file_extension": ".py",
            "mimetype": "text/x-python",
            "name": "python",
            "nbconvert_exporter": "python",
            "pygments_lexer": "ipython3",
            "version": "3.6.0"
        }
    },
    "nbformat": 4,
    "nbformat_minor": 2
}